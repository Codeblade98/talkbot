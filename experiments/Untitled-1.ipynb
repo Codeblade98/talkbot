{
 "cells": [
  {
   "cell_type": "code",
   "execution_count": 1,
   "metadata": {},
   "outputs": [
    {
     "name": "stdout",
     "output_type": "stream",
     "text": [
      "Requirement already satisfied: azure-cognitiveservices-speech in c:\\python312\\lib\\site-packages (1.41.1)\n",
      "Requirement already satisfied: openai in c:\\python312\\lib\\site-packages (1.57.0)\n",
      "Requirement already satisfied: anyio<5,>=3.5.0 in c:\\python312\\lib\\site-packages (from openai) (4.7.0)\n",
      "Requirement already satisfied: distro<2,>=1.7.0 in c:\\python312\\lib\\site-packages (from openai) (1.9.0)\n",
      "Requirement already satisfied: httpx<1,>=0.23.0 in c:\\python312\\lib\\site-packages (from openai) (0.28.1)\n",
      "Requirement already satisfied: jiter<1,>=0.4.0 in c:\\python312\\lib\\site-packages (from openai) (0.8.0)\n",
      "Requirement already satisfied: pydantic<3,>=1.9.0 in c:\\python312\\lib\\site-packages (from openai) (2.7.4)\n",
      "Requirement already satisfied: sniffio in c:\\python312\\lib\\site-packages (from openai) (1.3.1)\n",
      "Requirement already satisfied: tqdm>4 in c:\\python312\\lib\\site-packages (from openai) (4.66.4)\n",
      "Requirement already satisfied: typing-extensions<5,>=4.11 in c:\\python312\\lib\\site-packages (from openai) (4.12.2)\n",
      "Requirement already satisfied: idna>=2.8 in c:\\python312\\lib\\site-packages (from anyio<5,>=3.5.0->openai) (3.7)\n",
      "Requirement already satisfied: certifi in c:\\python312\\lib\\site-packages (from httpx<1,>=0.23.0->openai) (2024.6.2)\n",
      "Requirement already satisfied: httpcore==1.* in c:\\python312\\lib\\site-packages (from httpx<1,>=0.23.0->openai) (1.0.7)\n",
      "Requirement already satisfied: h11<0.15,>=0.13 in c:\\python312\\lib\\site-packages (from httpcore==1.*->httpx<1,>=0.23.0->openai) (0.14.0)\n",
      "Requirement already satisfied: annotated-types>=0.4.0 in c:\\python312\\lib\\site-packages (from pydantic<3,>=1.9.0->openai) (0.7.0)\n",
      "Requirement already satisfied: pydantic-core==2.18.4 in c:\\python312\\lib\\site-packages (from pydantic<3,>=1.9.0->openai) (2.18.4)\n",
      "Requirement already satisfied: colorama in c:\\python312\\lib\\site-packages (from tqdm>4->openai) (0.4.6)\n",
      "Note: you may need to restart the kernel to use updated packages.\n"
     ]
    },
    {
     "name": "stderr",
     "output_type": "stream",
     "text": [
      "\n",
      "[notice] A new release of pip is available: 23.2.1 -> 24.3.1\n",
      "[notice] To update, run: python.exe -m pip install --upgrade pip\n"
     ]
    },
    {
     "name": "stdout",
     "output_type": "stream",
     "text": [
      "Requirement already satisfied: soundfile in c:\\python312\\lib\\site-packages (0.12.1)\n",
      "Requirement already satisfied: cffi>=1.0 in c:\\python312\\lib\\site-packages (from soundfile) (1.17.1)\n",
      "Requirement already satisfied: pycparser in c:\\python312\\lib\\site-packages (from cffi>=1.0->soundfile) (2.22)\n",
      "Note: you may need to restart the kernel to use updated packages.\n"
     ]
    },
    {
     "name": "stderr",
     "output_type": "stream",
     "text": [
      "\n",
      "[notice] A new release of pip is available: 23.2.1 -> 24.3.1\n",
      "[notice] To update, run: python.exe -m pip install --upgrade pip\n"
     ]
    },
    {
     "name": "stdout",
     "output_type": "stream",
     "text": [
      "Requirement already satisfied: pyaudio in c:\\python312\\lib\\site-packages (0.2.14)\n",
      "Note: you may need to restart the kernel to use updated packages.\n"
     ]
    },
    {
     "name": "stderr",
     "output_type": "stream",
     "text": [
      "\n",
      "[notice] A new release of pip is available: 23.2.1 -> 24.3.1\n",
      "[notice] To update, run: python.exe -m pip install --upgrade pip\n"
     ]
    },
    {
     "name": "stdout",
     "output_type": "stream",
     "text": [
      "Note: you may need to restart the kernel to use updated packages.\n"
     ]
    },
    {
     "name": "stderr",
     "output_type": "stream",
     "text": [
      "\n",
      "[notice] A new release of pip is available: 23.2.1 -> 24.3.1\n",
      "[notice] To update, run: python.exe -m pip install --upgrade pip\n"
     ]
    },
    {
     "name": "stdout",
     "output_type": "stream",
     "text": [
      "Note: you may need to restart the kernel to use updated packages.\n"
     ]
    },
    {
     "name": "stderr",
     "output_type": "stream",
     "text": [
      "\n",
      "[notice] A new release of pip is available: 23.2.1 -> 24.3.1\n",
      "[notice] To update, run: python.exe -m pip install --upgrade pip\n"
     ]
    },
    {
     "name": "stdout",
     "output_type": "stream",
     "text": [
      "Note: you may need to restart the kernel to use updated packages.\n"
     ]
    },
    {
     "name": "stderr",
     "output_type": "stream",
     "text": [
      "\n",
      "[notice] A new release of pip is available: 23.2.1 -> 24.3.1\n",
      "[notice] To update, run: python.exe -m pip install --upgrade pip\n"
     ]
    },
    {
     "name": "stdout",
     "output_type": "stream",
     "text": [
      "Requirement already satisfied: pyyaml in c:\\python312\\lib\\site-packages (6.0.1)\n",
      "Note: you may need to restart the kernel to use updated packages.\n"
     ]
    },
    {
     "name": "stderr",
     "output_type": "stream",
     "text": [
      "\n",
      "[notice] A new release of pip is available: 23.2.1 -> 24.3.1\n",
      "[notice] To update, run: python.exe -m pip install --upgrade pip\n"
     ]
    }
   ],
   "source": [
    "%pip install azure-cognitiveservices-speech openai\n",
    "%pip install soundfile\n",
    "%pip install pyaudio\n",
    "%pip install langchain-core langgraph>0.2.27\n",
    "%pip install -q langchain-google-genai\n",
    "%pip install -q google-generativeai\n",
    "%pip install pyyaml"
   ]
  },
  {
   "cell_type": "code",
   "execution_count": 2,
   "metadata": {},
   "outputs": [
    {
     "name": "stderr",
     "output_type": "stream",
     "text": [
      "c:\\Python312\\Lib\\site-packages\\tqdm\\auto.py:21: TqdmWarning: IProgress not found. Please update jupyter and ipywidgets. See https://ipywidgets.readthedocs.io/en/stable/user_install.html\n",
      "  from .autonotebook import tqdm as notebook_tqdm\n"
     ]
    }
   ],
   "source": [
    "import os\n",
    "import google.generativeai as genai\n",
    "import json\n",
    "import math\n",
    "import requests\n",
    "import sys\n",
    "import time\n",
    "import threading\n",
    "import wave\n",
    "import pyaudio\n",
    "\n",
    "import numpy as np\n",
    "import soundfile as sf\n",
    "\n",
    "from typing_extensions import TypedDict\n",
    "from typing import Any, Dict, List, Optional, Tuple\n",
    "\n",
    "from langchain_google_genai import ChatGoogleGenerativeAI\n",
    "from langchain_core.messages import HumanMessage, SystemMessage, AIMessage\n",
    "\n",
    "from langgraph.graph import StateGraph, END\n",
    "from langgraph.checkpoint.memory import MemorySaver\n",
    "\n",
    "import yaml\n",
    "import copy"
   ]
  },
  {
   "cell_type": "code",
   "execution_count": 3,
   "metadata": {},
   "outputs": [],
   "source": [
    "# Load the YAML file\n",
    "with open(\"config.yaml\", \"r\") as file:\n",
    "    config = yaml.safe_load(file)\n",
    "\n",
    "# Load the API key\n",
    "os.environ[\"GOOGLE_API_KEY\"] = config[\"google_cloud_info\"][\"google_cloud_api_key\"]\n",
    "speech_key = config[\"azure_info\"][\"azure_speech_key\"]\n",
    "service_region = config[\"azure_info\"][\"azure_service_region\"]"
   ]
  },
  {
   "cell_type": "code",
   "execution_count": 70,
   "metadata": {},
   "outputs": [],
   "source": [
    "def save_json(data, filename):\n",
    "    with open(filename, 'w') as f:\n",
    "        json.dump(data, f, indent=4)\n",
    "\n",
    "pron_res = None  \n",
    "def pronunciation_assessment_continuous_from_file(filename):\n",
    "    \"\"\"Performs continuous pronunciation assessment asynchronously with input from an audio file.\n",
    "        See more information at https://aka.ms/csspeech/pa\"\"\"\n",
    "\n",
    "    import difflib\n",
    "    import json\n",
    "    import azure.cognitiveservices.speech as speechsdk\n",
    "    global pron_res\n",
    "    # Creates an instance of a speech config with specified subscription key and service region.\n",
    "    # Replace with your own subscription key and service region (e.g., \"westus\").\n",
    "    # Note: The sample is for en-US language.\n",
    "    speech_config = speechsdk.SpeechConfig(subscription=speech_key, region=service_region)\n",
    "    audio_config = speechsdk.audio.AudioConfig(filename=filename)\n",
    "\n",
    "    # with open(zhcnlongtxtfilename, \"r\", encoding=\"utf-8\") as t:\n",
    "    #     reference_text = t.readline()\n",
    "    reference_text = \"\"\n",
    "    # Create pronunciation assessment config, set grading system, granularity and if enable miscue based on your requirement.\n",
    "    enable_miscue = False\n",
    "    enable_prosody_assessment = True\n",
    "    pronunciation_config = speechsdk.PronunciationAssessmentConfig(\n",
    "        grading_system=speechsdk.PronunciationAssessmentGradingSystem.HundredMark,\n",
    "        granularity=speechsdk.PronunciationAssessmentGranularity.Phoneme,\n",
    "        enable_miscue=enable_miscue)\n",
    "    ## can also include topic-based content assessment if required\n",
    "    if enable_prosody_assessment:\n",
    "        pronunciation_config.enable_prosody_assessment()\n",
    "\n",
    "    # Creates a speech recognizer using a file as audio input.\n",
    "    language = 'en-US'\n",
    "    speech_recognizer = speechsdk.SpeechRecognizer(speech_config=speech_config, language=language, audio_config=audio_config)\n",
    "    # Apply pronunciation assessment config to speech recognizer\n",
    "    pronunciation_config.apply_to(speech_recognizer)\n",
    "\n",
    "    done = False\n",
    "    recognized_words = []\n",
    "    prosody_scores = []\n",
    "    fluency_scores = []\n",
    "    durations = []\n",
    "    startOffset = 0\n",
    "    endOffset = 0\n",
    "\n",
    "    def stop_cb(evt: speechsdk.SessionEventArgs):\n",
    "        \"\"\"callback that signals to stop continuous recognition upon receiving an event `evt`\"\"\"\n",
    "        print('CLOSING on {}'.format(evt))\n",
    "        nonlocal done\n",
    "        done = True\n",
    "\n",
    "    def recognized(evt: speechsdk.SpeechRecognitionEventArgs):\n",
    "        global pron_res\n",
    "        print(\"pronunciation assessment for: {}\".format(evt.result.text))\n",
    "        print(evt.result)\n",
    "        pronunciation_result = speechsdk.PronunciationAssessmentResult(evt.result)\n",
    "        print(evt.result)\n",
    "        pron_res = evt.result\n",
    "        # print(pronunciation_result.__dict__)\n",
    "        # print(\"    Accuracy score: {}, prosody score: {}, pronunciation score: {}, fluency score: {}\".format(\n",
    "        #     pronunciation_result.accuracy_score, pronunciation_result.prosody_score, pronunciation_result.pronunciation_score,\n",
    "        #     pronunciation_result.fluency_score\n",
    "        # ))\n",
    "        nonlocal recognized_words, prosody_scores, fluency_scores, durations, startOffset, endOffset\n",
    "        recognized_words += pronunciation_result.words\n",
    "        fluency_scores.append(pronunciation_result.fluency_score)\n",
    "        if pronunciation_result.prosody_score is not None:\n",
    "            prosody_scores.append(pronunciation_result.prosody_score)\n",
    "        json_result = evt.result.properties.get(speechsdk.PropertyId.SpeechServiceResponse_JsonResult)\n",
    "        jo = json.loads(json_result)\n",
    "        with open(\"pronunciation_assessment_result.json\", \"w\") as f:\n",
    "            json.dump(jo, f, indent=4)\n",
    "        nb = jo[\"NBest\"][0]\n",
    "        durations.extend([int(w[\"Duration\"]) + 100000 for w in nb[\"Words\"]])\n",
    "        if startOffset == 0:\n",
    "            startOffset = nb[\"Words\"][0][\"Offset\"]\n",
    "        endOffset = nb[\"Words\"][-1][\"Offset\"] + nb[\"Words\"][-1][\"Duration\"] + 100000\n",
    "\n",
    "    # Connect callbacks to the events fired by the speech recognizer\n",
    "    speech_recognizer.recognized.connect(recognized)\n",
    "    # (Optional) get the session ID\n",
    "    speech_recognizer.session_started.connect(lambda evt: print(f\"SESSION ID: {evt.session_id}\"))\n",
    "    speech_recognizer.session_stopped.connect(lambda evt: print('SESSION STOPPED {}'.format(evt)))\n",
    "    speech_recognizer.canceled.connect(lambda evt: print('CANCELED {}'.format(evt)))\n",
    "    # Stop continuous recognition on either session stopped or canceled events\n",
    "    speech_recognizer.session_stopped.connect(stop_cb)\n",
    "    speech_recognizer.canceled.connect(stop_cb)\n",
    "\n",
    "    # Start continuous pronunciation assessment\n",
    "    speech_recognizer.start_continuous_recognition()\n",
    "    start_time = time.time()\n",
    "    while not done:\n",
    "        time.sleep(.5)\n",
    "\n",
    "    speech_recognizer.stop_continuous_recognition()\n",
    "    final_words = recognized_words\n",
    "\n",
    "    durations_sum = sum([d for w, d in zip(recognized_words, durations) if w.error_type == \"None\"])\n",
    "\n",
    "    # We can calculate whole accuracy by averaging\n",
    "    final_accuracy_scores = []\n",
    "    for word in final_words:\n",
    "        if word.error_type == 'Insertion':\n",
    "            continue\n",
    "        else:\n",
    "            final_accuracy_scores.append(word.accuracy_score)\n",
    "    accuracy_score = sum(final_accuracy_scores) / (len(final_accuracy_scores)+0.001)\n",
    "    # Re-calculate the prosody score by averaging\n",
    "    if len(prosody_scores) == 0:\n",
    "        prosody_score = float(\"nan\")\n",
    "    else:\n",
    "        prosody_score = sum(prosody_scores) / len(prosody_scores)\n",
    "    # Re-calculate fluency score\n",
    "    fluency_score = 0\n",
    "    if startOffset > 0:\n",
    "        fluency_score = durations_sum / (endOffset - startOffset) * 100\n",
    "    # Calculate whole completeness score\n",
    "    handled_final_words = [w.word for w in final_words if w.error_type != \"Insertion\"]\n",
    "    # completeness_score = len([w for w in final_words if w.error_type == \"None\"]) / (len(handled_final_words)+0.01) * 100\n",
    "    # completeness_score = completeness_score if completeness_score <= 100 else 100\n",
    "    sorted_scores = sorted([accuracy_score, prosody_score, fluency_score])\n",
    "    pronunciation_score = sorted_scores[0] * 0.4 + sorted_scores[1] * 0.2 + sorted_scores[2] * 0.2\n",
    "\n",
    "    print('    Paragraph pronunciation score: {:.2f}, accuracy score: {:.2f}, prosody score: {:.2f}, fluency score: {:.2f}'.format(\n",
    "        pronunciation_score, accuracy_score, prosody_score, fluency_score\n",
    "    ))\n",
    "\n",
    "    for idx, word in enumerate(final_words):\n",
    "        print('    {}: word: {}\\taccuracy score: {}\\terror type: {};'.format(\n",
    "            idx + 1, word.word, word.accuracy_score, word.error_type\n",
    "        ))"
   ]
  },
  {
   "cell_type": "code",
   "execution_count": 75,
   "metadata": {},
   "outputs": [
    {
     "name": "stdout",
     "output_type": "stream",
     "text": [
      "SESSION ID: 85713d59eebd40089f3e707fdcc60ff9\n",
      "pronunciation assessment for: Yeah, I'm fine.\n",
      "SpeechRecognitionResult(result_id=42d391ffd91d41d6b7501fc3325ad320, text=\"Yeah, I'm fine.\", reason=ResultReason.RecognizedSpeech)\n",
      "SpeechRecognitionResult(result_id=42d391ffd91d41d6b7501fc3325ad320, text=\"Yeah, I'm fine.\", reason=ResultReason.RecognizedSpeech)\n",
      "pronunciation assessment for: We have discontinued.\n",
      "SpeechRecognitionResult(result_id=3fa43559d502450f8be20032e529b097, text=\"We have discontinued.\", reason=ResultReason.RecognizedSpeech)\n",
      "SpeechRecognitionResult(result_id=3fa43559d502450f8be20032e529b097, text=\"We have discontinued.\", reason=ResultReason.RecognizedSpeech)\n",
      "CANCELED SpeechRecognitionCanceledEventArgs(session_id=85713d59eebd40089f3e707fdcc60ff9, result=SpeechRecognitionResult(result_id=4bfaa5bc20014644af7aa4dc254d183a, text=\"\", reason=ResultReason.Canceled))\n",
      "CLOSING on SpeechRecognitionCanceledEventArgs(session_id=85713d59eebd40089f3e707fdcc60ff9, result=SpeechRecognitionResult(result_id=4bfaa5bc20014644af7aa4dc254d183a, text=\"\", reason=ResultReason.Canceled))\n",
      "SESSION STOPPED SessionEventArgs(session_id=85713d59eebd40089f3e707fdcc60ff9)\n",
      "CLOSING on SessionEventArgs(session_id=85713d59eebd40089f3e707fdcc60ff9)\n",
      "    Paragraph pronunciation score: 45.68, accuracy score: 73.49, prosody score: 80.05, fluency score: 37.42\n",
      "    1: word: yeah\taccuracy score: 98.0\terror type: None;\n",
      "    2: word: i'm\taccuracy score: 100.0\terror type: None;\n",
      "    3: word: fine\taccuracy score: 100.0\terror type: None;\n",
      "    4: word: we\taccuracy score: 77.0\terror type: None;\n",
      "    5: word: have\taccuracy score: 21.0\terror type: Mispronunciation;\n",
      "    6: word: discontinued\taccuracy score: 45.0\terror type: Mispronunciation;\n"
     ]
    }
   ],
   "source": [
    "pronunciation_assessment_continuous_from_file(\"input_audio_3.wav\")"
   ]
  },
  {
   "cell_type": "code",
   "execution_count": 72,
   "metadata": {},
   "outputs": [
    {
     "data": {
      "text/plain": [
       "<azure.cognitiveservices.speech.SpeechRecognitionResult at 0x1c1b8491be0>"
      ]
     },
     "execution_count": 72,
     "metadata": {},
     "output_type": "execute_result"
    }
   ],
   "source": [
    "pron_res"
   ]
  },
  {
   "cell_type": "code",
   "execution_count": 73,
   "metadata": {},
   "outputs": [
    {
     "data": {
      "text/plain": [
       "{'_RecognitionResult__handle': <azure.cognitiveservices.speech.interop._Handle at 0x1c1b7fc7620>,\n",
       " '_offset': 10300000,\n",
       " '_duration': 18700000,\n",
       " '_result_id': '3e071c27e6ce47639183f2e09738f274',\n",
       " '_reason': <ResultReason.RecognizedSpeech: 3>,\n",
       " '_text': 'Hello, good evening. How are you?',\n",
       " '_propbag': <azure.cognitiveservices.speech.PropertyCollection at 0x1c1b848c2c0>,\n",
       " '_json': '{\"Id\":\"3e071c27e6ce47639183f2e09738f274\",\"RecognitionStatus\":\"Success\",\"Offset\":10300000,\"Duration\":18700000,\"Channel\":0,\"DisplayText\":\"Hello, good evening. How are you?\",\"SNR\":33.92577,\"NBest\":[{\"Confidence\":0.9423816,\"Lexical\":\"hello good evening how are you\",\"ITN\":\"hello good evening how are you\",\"MaskedITN\":\"hello good evening how are you\",\"Display\":\"Hello, good evening. How are you?\",\"PronunciationAssessment\":{\"AccuracyScore\":99.0,\"FluencyScore\":84.0,\"ProsodyScore\":83.3,\"CompletenessScore\":100.0,\"PronScore\":86.6},\"Words\":[{\"Word\":\"hello\",\"Offset\":10300000,\"Duration\":5200000,\"PronunciationAssessment\":{\"AccuracyScore\":100.0,\"ErrorType\":\"None\",\"Feedback\":{\"Prosody\":{\"Break\":{\"ErrorTypes\":[\"None\"],\"BreakLength\":0},\"Intonation\":{\"ErrorTypes\":[],\"Monotone\":{\"SyllablePitchDeltaConfidence\":0.3739937}}}}},\"Syllables\":[{\"Syllable\":\"hax\",\"Grapheme\":\"hel\",\"PronunciationAssessment\":{\"AccuracyScore\":100.0},\"Offset\":10300000,\"Duration\":1700000},{\"Syllable\":\"low\",\"Grapheme\":\"lo\",\"PronunciationAssessment\":{\"AccuracyScore\":100.0},\"Offset\":12100000,\"Duration\":3400000}],\"Phonemes\":[{\"Phoneme\":\"h\",\"PronunciationAssessment\":{\"AccuracyScore\":100.0},\"Offset\":10300000,\"Duration\":1100000},{\"Phoneme\":\"ax\",\"PronunciationAssessment\":{\"AccuracyScore\":100.0},\"Offset\":11500000,\"Duration\":500000},{\"Phoneme\":\"l\",\"PronunciationAssessment\":{\"AccuracyScore\":100.0},\"Offset\":12100000,\"Duration\":700000},{\"Phoneme\":\"ow\",\"PronunciationAssessment\":{\"AccuracyScore\":100.0},\"Offset\":12900000,\"Duration\":2600000}]},{\"Word\":\"good\",\"Offset\":15800000,\"Duration\":2500000,\"PronunciationAssessment\":{\"AccuracyScore\":98.0,\"ErrorType\":\"None\",\"Feedback\":{\"Prosody\":{\"Break\":{\"ErrorTypes\":[\"None\"],\"UnexpectedBreak\":{\"Confidence\":0.08695657},\"MissingBreak\":{\"Confidence\":0.9565217},\"BreakLength\":200000},\"Intonation\":{\"ErrorTypes\":[],\"Monotone\":{\"SyllablePitchDeltaConfidence\":0.3739937}}}}},\"Syllables\":[{\"Syllable\":\"guwd\",\"Grapheme\":\"good\",\"PronunciationAssessment\":{\"AccuracyScore\":84.0},\"Offset\":15800000,\"Duration\":2500000}],\"Phonemes\":[{\"Phoneme\":\"g\",\"PronunciationAssessment\":{\"AccuracyScore\":80.0},\"Offset\":15800000,\"Duration\":1300000},{\"Phoneme\":\"uw\",\"PronunciationAssessment\":{\"AccuracyScore\":74.0},\"Offset\":17200000,\"Duration\":400000},{\"Phoneme\":\"d\",\"PronunciationAssessment\":{\"AccuracyScore\":100.0},\"Offset\":17700000,\"Duration\":600000}]},{\"Word\":\"evening\",\"Offset\":18400000,\"Duration\":4500000,\"PronunciationAssessment\":{\"AccuracyScore\":98.0,\"ErrorType\":\"None\",\"Feedback\":{\"Prosody\":{\"Break\":{\"ErrorTypes\":[\"None\"],\"UnexpectedBreak\":{\"Confidence\":4.3478263E-08},\"MissingBreak\":{\"Confidence\":1.0},\"BreakLength\":0},\"Intonation\":{\"ErrorTypes\":[],\"Monotone\":{\"SyllablePitchDeltaConfidence\":0.3739937}}}}},\"Syllables\":[{\"Syllable\":\"iyv\",\"PronunciationAssessment\":{\"AccuracyScore\":91.0},\"Offset\":18400000,\"Duration\":1200000},{\"Syllable\":\"nihng\",\"PronunciationAssessment\":{\"AccuracyScore\":89.0},\"Offset\":19700000,\"Duration\":3200000}],\"Phonemes\":[{\"Phoneme\":\"iy\",\"PronunciationAssessment\":{\"AccuracyScore\":100.0},\"Offset\":18400000,\"Duration\":300000},{\"Phoneme\":\"v\",\"PronunciationAssessment\":{\"AccuracyScore\":87.0},\"Offset\":18800000,\"Duration\":800000},{\"Phoneme\":\"n\",\"PronunciationAssessment\":{\"AccuracyScore\":92.0},\"Offset\":19700000,\"Duration\":700000},{\"Phoneme\":\"ih\",\"PronunciationAssessment\":{\"AccuracyScore\":100.0},\"Offset\":20500000,\"Duration\":700000},{\"Phoneme\":\"ng\",\"PronunciationAssessment\":{\"AccuracyScore\":83.0},\"Offset\":21300000,\"Duration\":1600000}]},{\"Word\":\"how\",\"Offset\":23200000,\"Duration\":1800000,\"PronunciationAssessment\":{\"AccuracyScore\":100.0,\"ErrorType\":\"None\",\"Feedback\":{\"Prosody\":{\"Break\":{\"ErrorTypes\":[\"None\"],\"UnexpectedBreak\":{\"Confidence\":0.08695657},\"MissingBreak\":{\"Confidence\":0.9565217},\"BreakLength\":200000},\"Intonation\":{\"ErrorTypes\":[],\"Monotone\":{\"SyllablePitchDeltaConfidence\":0.3739937}}}}},\"Syllables\":[{\"Syllable\":\"haw\",\"Grapheme\":\"how\",\"PronunciationAssessment\":{\"AccuracyScore\":100.0},\"Offset\":23200000,\"Duration\":1800000}],\"Phonemes\":[{\"Phoneme\":\"h\",\"PronunciationAssessment\":{\"AccuracyScore\":100.0},\"Offset\":23200000,\"Duration\":1200000},{\"Phoneme\":\"aw\",\"PronunciationAssessment\":{\"AccuracyScore\":100.0},\"Offset\":24500000,\"Duration\":500000}]},{\"Word\":\"are\",\"Offset\":25100000,\"Duration\":1500000,\"PronunciationAssessment\":{\"AccuracyScore\":100.0,\"ErrorType\":\"None\",\"Feedback\":{\"Prosody\":{\"Break\":{\"ErrorTypes\":[\"None\"],\"UnexpectedBreak\":{\"Confidence\":4.3478263E-08},\"MissingBreak\":{\"Confidence\":1.0},\"BreakLength\":0},\"Intonation\":{\"ErrorTypes\":[],\"Monotone\":{\"SyllablePitchDeltaConfidence\":0.3739937}}}}},\"Syllables\":[{\"Syllable\":\"axr\",\"Grapheme\":\"are\",\"PronunciationAssessment\":{\"AccuracyScore\":100.0},\"Offset\":25100000,\"Duration\":1500000}],\"Phonemes\":[{\"Phoneme\":\"ax\",\"PronunciationAssessment\":{\"AccuracyScore\":100.0},\"Offset\":25100000,\"Duration\":700000},{\"Phoneme\":\"r\",\"PronunciationAssessment\":{\"AccuracyScore\":100.0},\"Offset\":25900000,\"Duration\":700000}]},{\"Word\":\"you\",\"Offset\":26700000,\"Duration\":2300000,\"PronunciationAssessment\":{\"AccuracyScore\":100.0,\"ErrorType\":\"None\",\"Feedback\":{\"Prosody\":{\"Break\":{\"ErrorTypes\":[\"None\"],\"UnexpectedBreak\":{\"Confidence\":4.3478263E-08},\"MissingBreak\":{\"Confidence\":1.0},\"BreakLength\":0},\"Intonation\":{\"ErrorTypes\":[],\"Monotone\":{\"SyllablePitchDeltaConfidence\":0.3739937}}}}},\"Syllables\":[{\"Syllable\":\"yuw\",\"Grapheme\":\"you\",\"PronunciationAssessment\":{\"AccuracyScore\":100.0},\"Offset\":26700000,\"Duration\":2300000}],\"Phonemes\":[{\"Phoneme\":\"y\",\"PronunciationAssessment\":{\"AccuracyScore\":100.0},\"Offset\":26700000,\"Duration\":300000},{\"Phoneme\":\"uw\",\"PronunciationAssessment\":{\"AccuracyScore\":100.0},\"Offset\":27100000,\"Duration\":1900000}]}]}]}',\n",
       " '_error_json': '',\n",
       " '_properties': {<PropertyId.SpeechServiceResponse_JsonResult: 5000>: '{\"Id\":\"3e071c27e6ce47639183f2e09738f274\",\"RecognitionStatus\":\"Success\",\"Offset\":10300000,\"Duration\":18700000,\"Channel\":0,\"DisplayText\":\"Hello, good evening. How are you?\",\"SNR\":33.92577,\"NBest\":[{\"Confidence\":0.9423816,\"Lexical\":\"hello good evening how are you\",\"ITN\":\"hello good evening how are you\",\"MaskedITN\":\"hello good evening how are you\",\"Display\":\"Hello, good evening. How are you?\",\"PronunciationAssessment\":{\"AccuracyScore\":99.0,\"FluencyScore\":84.0,\"ProsodyScore\":83.3,\"CompletenessScore\":100.0,\"PronScore\":86.6},\"Words\":[{\"Word\":\"hello\",\"Offset\":10300000,\"Duration\":5200000,\"PronunciationAssessment\":{\"AccuracyScore\":100.0,\"ErrorType\":\"None\",\"Feedback\":{\"Prosody\":{\"Break\":{\"ErrorTypes\":[\"None\"],\"BreakLength\":0},\"Intonation\":{\"ErrorTypes\":[],\"Monotone\":{\"SyllablePitchDeltaConfidence\":0.3739937}}}}},\"Syllables\":[{\"Syllable\":\"hax\",\"Grapheme\":\"hel\",\"PronunciationAssessment\":{\"AccuracyScore\":100.0},\"Offset\":10300000,\"Duration\":1700000},{\"Syllable\":\"low\",\"Grapheme\":\"lo\",\"PronunciationAssessment\":{\"AccuracyScore\":100.0},\"Offset\":12100000,\"Duration\":3400000}],\"Phonemes\":[{\"Phoneme\":\"h\",\"PronunciationAssessment\":{\"AccuracyScore\":100.0},\"Offset\":10300000,\"Duration\":1100000},{\"Phoneme\":\"ax\",\"PronunciationAssessment\":{\"AccuracyScore\":100.0},\"Offset\":11500000,\"Duration\":500000},{\"Phoneme\":\"l\",\"PronunciationAssessment\":{\"AccuracyScore\":100.0},\"Offset\":12100000,\"Duration\":700000},{\"Phoneme\":\"ow\",\"PronunciationAssessment\":{\"AccuracyScore\":100.0},\"Offset\":12900000,\"Duration\":2600000}]},{\"Word\":\"good\",\"Offset\":15800000,\"Duration\":2500000,\"PronunciationAssessment\":{\"AccuracyScore\":98.0,\"ErrorType\":\"None\",\"Feedback\":{\"Prosody\":{\"Break\":{\"ErrorTypes\":[\"None\"],\"UnexpectedBreak\":{\"Confidence\":0.08695657},\"MissingBreak\":{\"Confidence\":0.9565217},\"BreakLength\":200000},\"Intonation\":{\"ErrorTypes\":[],\"Monotone\":{\"SyllablePitchDeltaConfidence\":0.3739937}}}}},\"Syllables\":[{\"Syllable\":\"guwd\",\"Grapheme\":\"good\",\"PronunciationAssessment\":{\"AccuracyScore\":84.0},\"Offset\":15800000,\"Duration\":2500000}],\"Phonemes\":[{\"Phoneme\":\"g\",\"PronunciationAssessment\":{\"AccuracyScore\":80.0},\"Offset\":15800000,\"Duration\":1300000},{\"Phoneme\":\"uw\",\"PronunciationAssessment\":{\"AccuracyScore\":74.0},\"Offset\":17200000,\"Duration\":400000},{\"Phoneme\":\"d\",\"PronunciationAssessment\":{\"AccuracyScore\":100.0},\"Offset\":17700000,\"Duration\":600000}]},{\"Word\":\"evening\",\"Offset\":18400000,\"Duration\":4500000,\"PronunciationAssessment\":{\"AccuracyScore\":98.0,\"ErrorType\":\"None\",\"Feedback\":{\"Prosody\":{\"Break\":{\"ErrorTypes\":[\"None\"],\"UnexpectedBreak\":{\"Confidence\":4.3478263E-08},\"MissingBreak\":{\"Confidence\":1.0},\"BreakLength\":0},\"Intonation\":{\"ErrorTypes\":[],\"Monotone\":{\"SyllablePitchDeltaConfidence\":0.3739937}}}}},\"Syllables\":[{\"Syllable\":\"iyv\",\"PronunciationAssessment\":{\"AccuracyScore\":91.0},\"Offset\":18400000,\"Duration\":1200000},{\"Syllable\":\"nihng\",\"PronunciationAssessment\":{\"AccuracyScore\":89.0},\"Offset\":19700000,\"Duration\":3200000}],\"Phonemes\":[{\"Phoneme\":\"iy\",\"PronunciationAssessment\":{\"AccuracyScore\":100.0},\"Offset\":18400000,\"Duration\":300000},{\"Phoneme\":\"v\",\"PronunciationAssessment\":{\"AccuracyScore\":87.0},\"Offset\":18800000,\"Duration\":800000},{\"Phoneme\":\"n\",\"PronunciationAssessment\":{\"AccuracyScore\":92.0},\"Offset\":19700000,\"Duration\":700000},{\"Phoneme\":\"ih\",\"PronunciationAssessment\":{\"AccuracyScore\":100.0},\"Offset\":20500000,\"Duration\":700000},{\"Phoneme\":\"ng\",\"PronunciationAssessment\":{\"AccuracyScore\":83.0},\"Offset\":21300000,\"Duration\":1600000}]},{\"Word\":\"how\",\"Offset\":23200000,\"Duration\":1800000,\"PronunciationAssessment\":{\"AccuracyScore\":100.0,\"ErrorType\":\"None\",\"Feedback\":{\"Prosody\":{\"Break\":{\"ErrorTypes\":[\"None\"],\"UnexpectedBreak\":{\"Confidence\":0.08695657},\"MissingBreak\":{\"Confidence\":0.9565217},\"BreakLength\":200000},\"Intonation\":{\"ErrorTypes\":[],\"Monotone\":{\"SyllablePitchDeltaConfidence\":0.3739937}}}}},\"Syllables\":[{\"Syllable\":\"haw\",\"Grapheme\":\"how\",\"PronunciationAssessment\":{\"AccuracyScore\":100.0},\"Offset\":23200000,\"Duration\":1800000}],\"Phonemes\":[{\"Phoneme\":\"h\",\"PronunciationAssessment\":{\"AccuracyScore\":100.0},\"Offset\":23200000,\"Duration\":1200000},{\"Phoneme\":\"aw\",\"PronunciationAssessment\":{\"AccuracyScore\":100.0},\"Offset\":24500000,\"Duration\":500000}]},{\"Word\":\"are\",\"Offset\":25100000,\"Duration\":1500000,\"PronunciationAssessment\":{\"AccuracyScore\":100.0,\"ErrorType\":\"None\",\"Feedback\":{\"Prosody\":{\"Break\":{\"ErrorTypes\":[\"None\"],\"UnexpectedBreak\":{\"Confidence\":4.3478263E-08},\"MissingBreak\":{\"Confidence\":1.0},\"BreakLength\":0},\"Intonation\":{\"ErrorTypes\":[],\"Monotone\":{\"SyllablePitchDeltaConfidence\":0.3739937}}}}},\"Syllables\":[{\"Syllable\":\"axr\",\"Grapheme\":\"are\",\"PronunciationAssessment\":{\"AccuracyScore\":100.0},\"Offset\":25100000,\"Duration\":1500000}],\"Phonemes\":[{\"Phoneme\":\"ax\",\"PronunciationAssessment\":{\"AccuracyScore\":100.0},\"Offset\":25100000,\"Duration\":700000},{\"Phoneme\":\"r\",\"PronunciationAssessment\":{\"AccuracyScore\":100.0},\"Offset\":25900000,\"Duration\":700000}]},{\"Word\":\"you\",\"Offset\":26700000,\"Duration\":2300000,\"PronunciationAssessment\":{\"AccuracyScore\":100.0,\"ErrorType\":\"None\",\"Feedback\":{\"Prosody\":{\"Break\":{\"ErrorTypes\":[\"None\"],\"UnexpectedBreak\":{\"Confidence\":4.3478263E-08},\"MissingBreak\":{\"Confidence\":1.0},\"BreakLength\":0},\"Intonation\":{\"ErrorTypes\":[],\"Monotone\":{\"SyllablePitchDeltaConfidence\":0.3739937}}}}},\"Syllables\":[{\"Syllable\":\"yuw\",\"Grapheme\":\"you\",\"PronunciationAssessment\":{\"AccuracyScore\":100.0},\"Offset\":26700000,\"Duration\":2300000}],\"Phonemes\":[{\"Phoneme\":\"y\",\"PronunciationAssessment\":{\"AccuracyScore\":100.0},\"Offset\":26700000,\"Duration\":300000},{\"Phoneme\":\"uw\",\"PronunciationAssessment\":{\"AccuracyScore\":100.0},\"Offset\":27100000,\"Duration\":1900000}]}]}]}',\n",
       "  <PropertyId.SpeechServiceResponse_RecognitionLatencyMs: 5002>: '2961'},\n",
       " '_cancellation_details': None,\n",
       " '_no_match_details': None}"
      ]
     },
     "execution_count": 73,
     "metadata": {},
     "output_type": "execute_result"
    }
   ],
   "source": [
    "pron_res.__dict__"
   ]
  },
  {
   "cell_type": "code",
   "execution_count": 61,
   "metadata": {},
   "outputs": [
    {
     "data": {
      "text/plain": [
       "{'_accuracy_score': 99.0,\n",
       " '_pronunciation_score': 86.6,\n",
       " '_completeness_score': 100.0,\n",
       " '_fluency_score': 84.0,\n",
       " '_prosody_score': 83.3,\n",
       " '_content_assessment_result': None,\n",
       " '_words': [<azure.cognitiveservices.speech.PronunciationAssessmentWordResult at 0x1c1b829f6b0>,\n",
       "  <azure.cognitiveservices.speech.PronunciationAssessmentWordResult at 0x1c1b829fc80>,\n",
       "  <azure.cognitiveservices.speech.PronunciationAssessmentWordResult at 0x1c1b82d02c0>,\n",
       "  <azure.cognitiveservices.speech.PronunciationAssessmentWordResult at 0x1c1b82d10d0>,\n",
       "  <azure.cognitiveservices.speech.PronunciationAssessmentWordResult at 0x1c1b82d0fb0>,\n",
       "  <azure.cognitiveservices.speech.PronunciationAssessmentWordResult at 0x1c1b82d3d40>]}"
      ]
     },
     "execution_count": 61,
     "metadata": {},
     "output_type": "execute_result"
    }
   ],
   "source": [
    "pron_res.__dict__"
   ]
  },
  {
   "cell_type": "code",
   "execution_count": 57,
   "metadata": {},
   "outputs": [
    {
     "name": "stdout",
     "output_type": "stream",
     "text": [
      "{'_phoneme': 'h', '_accuracy_score': 100.0, '_nbest_phonemes': None}\n",
      "{'_phoneme': 'ax', '_accuracy_score': 100.0, '_nbest_phonemes': None}\n",
      "{'_phoneme': 'l', '_accuracy_score': 100.0, '_nbest_phonemes': None}\n",
      "{'_phoneme': 'ow', '_accuracy_score': 100.0, '_nbest_phonemes': None}\n",
      "{'_phoneme': 'g', '_accuracy_score': 80.0, '_nbest_phonemes': None}\n",
      "{'_phoneme': 'uw', '_accuracy_score': 74.0, '_nbest_phonemes': None}\n",
      "{'_phoneme': 'd', '_accuracy_score': 100.0, '_nbest_phonemes': None}\n",
      "{'_phoneme': 'iy', '_accuracy_score': 100.0, '_nbest_phonemes': None}\n",
      "{'_phoneme': 'v', '_accuracy_score': 87.0, '_nbest_phonemes': None}\n",
      "{'_phoneme': 'n', '_accuracy_score': 92.0, '_nbest_phonemes': None}\n",
      "{'_phoneme': 'ih', '_accuracy_score': 100.0, '_nbest_phonemes': None}\n",
      "{'_phoneme': 'ng', '_accuracy_score': 83.0, '_nbest_phonemes': None}\n",
      "{'_phoneme': 'h', '_accuracy_score': 100.0, '_nbest_phonemes': None}\n",
      "{'_phoneme': 'aw', '_accuracy_score': 100.0, '_nbest_phonemes': None}\n",
      "{'_phoneme': 'ax', '_accuracy_score': 100.0, '_nbest_phonemes': None}\n",
      "{'_phoneme': 'r', '_accuracy_score': 100.0, '_nbest_phonemes': None}\n",
      "{'_phoneme': 'y', '_accuracy_score': 100.0, '_nbest_phonemes': None}\n",
      "{'_phoneme': 'uw', '_accuracy_score': 100.0, '_nbest_phonemes': None}\n"
     ]
    }
   ],
   "source": [
    "for obj in pron_res.words:\n",
    "    for obj2 in obj.phonemes:\n",
    "        print(obj2.__dict__)"
   ]
  },
  {
   "cell_type": "code",
   "execution_count": 21,
   "metadata": {},
   "outputs": [],
   "source": [
    "import azure.cognitiveservices.speech as speechsdk"
   ]
  },
  {
   "cell_type": "code",
   "execution_count": null,
   "metadata": {},
   "outputs": [],
   "source": [
    "def pronunciation_assessment_continuous_from_file(filename):\n",
    "    \"\"\"Performs continuous pronunciation assessment asynchronously with input from an audio file.\n",
    "        See more information at https://aka.ms/csspeech/pa\"\"\"\n",
    "\n",
    "    import difflib\n",
    "    import json\n",
    "    import azure.cognitiveservices.speech as speechsdk\n",
    "\n",
    "    speech_config = speechsdk.SpeechConfig(subscription=speech_key, region=service_region)\n",
    "    audio_config = speechsdk.audio.AudioConfig(filename=filename)\n",
    "\n",
    "    reference_text = \"\"\n",
    "    # Create pronunciation assessment config, set grading system, granularity and if enable miscue based on your requirement.\n",
    "    enable_miscue = False\n",
    "    enable_prosody_assessment = True\n",
    "    pronunciation_config = speechsdk.PronunciationAssessmentConfig(\n",
    "        grading_system=speechsdk.PronunciationAssessmentGradingSystem.HundredMark,\n",
    "        granularity=speechsdk.PronunciationAssessmentGranularity.Phoneme,\n",
    "        enable_miscue=enable_miscue)\n",
    "    ## can also include topic-based content assessment if required\n",
    "    if enable_prosody_assessment:\n",
    "        pronunciation_config.enable_prosody_assessment()\n",
    "\n",
    "    # Creates a speech recognizer using a file as audio input.\n",
    "    language = 'en-US'\n",
    "    speech_recognizer = speechsdk.SpeechRecognizer(speech_config=speech_config, language=language, audio_config=audio_config)\n",
    "    # Apply pronunciation assessment config to speech recognizer\n",
    "    pronunciation_config.apply_to(speech_recognizer)\n",
    "\n",
    "    done = False\n",
    "    recognized_words = []\n",
    "    prosody_scores = []\n",
    "    fluency_scores = []\n",
    "    durations = []\n",
    "    startOffset = 0\n",
    "    endOffset = 0\n",
    "\n",
    "    def stop_cb(evt: speechsdk.SessionEventArgs):\n",
    "        \"\"\"callback that signals to stop continuous recognition upon receiving an event `evt`\"\"\"\n",
    "        print('CLOSING on {}'.format(evt))\n",
    "        nonlocal done\n",
    "        done = True\n",
    "\n",
    "    def recognized(evt: speechsdk.SpeechRecognitionEventArgs):\n",
    "        print(\"pronunciation assessment for: {}\".format(evt.result.text))\n",
    "        print(evt.result)\n",
    "        pronunciation_result = speechsdk.PronunciationAssessmentResult(evt.result)\n",
    "        # with open(\"pronunciation_assessment_result.json\", \"w\") as f:\n",
    "        #     json.dump(pronunciation_result.json, f, indent=4)\n",
    "        print(\"    Accuracy score: {}, prosody score: {}, pronunciation score: {}, completeness score : {}, fluency score: {}\".format(\n",
    "            pronunciation_result.accuracy_score, pronunciation_result.prosody_score, pronunciation_result.pronunciation_score,\n",
    "            pronunciation_result.completeness_score, pronunciation_result.fluency_score\n",
    "        ))\n",
    "        nonlocal recognized_words, prosody_scores, fluency_scores, durations, startOffset, endOffset\n",
    "        recognized_words += pronunciation_result.words\n",
    "        fluency_scores.append(pronunciation_result.fluency_score)\n",
    "        if pronunciation_result.prosody_score is not None:\n",
    "            prosody_scores.append(pronunciation_result.prosody_score)\n",
    "        json_result = evt.result.properties.get(speechsdk.PropertyId.SpeechServiceResponse_JsonResult)\n",
    "        jo = json.loads(json_result)\n",
    "        nb = jo[\"NBest\"][0]\n",
    "        durations.extend([int(w[\"Duration\"]) + 100000 for w in nb[\"Words\"]])\n",
    "        if startOffset == 0:\n",
    "            startOffset = nb[\"Words\"][0][\"Offset\"]\n",
    "        endOffset = nb[\"Words\"][-1][\"Offset\"] + nb[\"Words\"][-1][\"Duration\"] + 100000\n",
    "\n",
    "    # Connect callbacks to the events fired by the speech recognizer\n",
    "    speech_recognizer.recognized.connect(recognized)\n",
    "    # (Optional) get the session ID\n",
    "    speech_recognizer.session_started.connect(lambda evt: print(f\"SESSION ID: {evt.session_id}\"))\n",
    "    speech_recognizer.session_stopped.connect(lambda evt: print('SESSION STOPPED {}'.format(evt)))\n",
    "    speech_recognizer.canceled.connect(lambda evt: print('CANCELED {}'.format(evt)))\n",
    "    # Stop continuous recognition on either session stopped or canceled events\n",
    "    speech_recognizer.session_stopped.connect(stop_cb)\n",
    "    speech_recognizer.canceled.connect(stop_cb)\n",
    "\n",
    "    # Start continuous pronunciation assessment\n",
    "    speech_recognizer.start_continuous_recognition()\n",
    "    while not done:\n",
    "        time.sleep(.5)\n",
    "\n",
    "    speech_recognizer.stop_continuous_recognition()\n",
    "\n",
    "    final_words = recognized_words\n",
    "\n",
    "    durations_sum = sum([d for w, d in zip(recognized_words, durations) if w.error_type == \"None\"])\n",
    "\n",
    "    # We can calculate whole accuracy by averaging\n",
    "    final_accuracy_scores = []\n",
    "    for word in final_words:\n",
    "        if word.error_type == 'Insertion':\n",
    "            continue\n",
    "        else:\n",
    "            final_accuracy_scores.append(word.accuracy_score)\n",
    "    accuracy_score = sum(final_accuracy_scores) / (len(final_accuracy_scores)+0.001)\n",
    "    # Re-calculate the prosody score by averaging\n",
    "    if len(prosody_scores) == 0:\n",
    "        prosody_score = float(\"nan\")\n",
    "    else:\n",
    "        prosody_score = sum(prosody_scores) / len(prosody_scores)\n",
    "    # Re-calculate fluency score\n",
    "    fluency_score = 0\n",
    "    if startOffset > 0:\n",
    "        fluency_score = durations_sum / (endOffset - startOffset) * 100\n",
    "    # Calculate whole completeness score\n",
    "    handled_final_words = [w.word for w in final_words if w.error_type != \"Insertion\"]\n",
    "    completeness_score = len([w for w in final_words if w.error_type == \"None\"]) / (len(handled_final_words)+0.01) * 100\n",
    "    completeness_score = completeness_score if completeness_score <= 100 else 100\n",
    "    sorted_scores = sorted([accuracy_score, prosody_score, completeness_score, fluency_score])\n",
    "    pronunciation_score = sorted_scores[0] * 0.4 + sorted_scores[1] * 0.2 + sorted_scores[2] * 0.2 + sorted_scores[3] * 0.2\n",
    "\n",
    "    print('    Paragraph pronunciation score: {:.2f}, accuracy score: {:.2f}, prosody score: {:.2f}, completeness score: {:.2f}, fluency score: {:.2f}'.format(\n",
    "        pronunciation_score, accuracy_score, prosody_score, completeness_score, fluency_score\n",
    "    ))\n",
    "\n",
    "    for idx, word in enumerate(final_words):\n",
    "        print('    {}: word: {}\\taccuracy score: {}\\terror type: {};'.format(\n",
    "            idx + 1, word.word, word.accuracy_score, word.error_type\n",
    "        ))"
   ]
  },
  {
   "cell_type": "code",
   "execution_count": null,
   "metadata": {},
   "outputs": [],
   "source": [
    "import string\n",
    "def pronunciation_assessment_continuous_from_file():\n",
    "    \"\"\"Performs continuous pronunciation assessment asynchronously with input from an audio file.\n",
    "        See more information at https://aka.ms/csspeech/pa\"\"\"\n",
    "\n",
    "    import difflib\n",
    "    import json\n",
    "\n",
    "    # Creates an instance of a speech config with specified subscription key and service region.\n",
    "    # Replace with your own subscription key and service region (e.g., \"westus\").\n",
    "    speech_config = speechsdk.SpeechConfig(subscription=speech_key, region=service_region)\n",
    "    # provide a WAV file as an example. Replace it with your own.\n",
    "    audio_config = speechsdk.audio.AudioConfig(filename=\"input_audio_0.wav\")\n",
    "\n",
    "    reference_text = \"\"\n",
    "    # create pronunciation assessment config, set grading system, granularity and if enable miscue based on your requirement.\n",
    "    enable_miscue = True\n",
    "    enable_prosody_assessment = True\n",
    "    pronunciation_config = speechsdk.PronunciationAssessmentConfig(\n",
    "        reference_text=reference_text,\n",
    "        grading_system=speechsdk.PronunciationAssessmentGradingSystem.HundredMark,\n",
    "        granularity=speechsdk.PronunciationAssessmentGranularity.Phoneme,\n",
    "        enable_miscue=enable_miscue)\n",
    "    if enable_prosody_assessment:\n",
    "        pronunciation_config.enable_prosody_assessment()\n",
    "\n",
    "    # Creates a speech recognizer using a file as audio input.\n",
    "    language = 'en-US'\n",
    "    speech_recognizer = speechsdk.SpeechRecognizer(speech_config=speech_config, language=language, audio_config=audio_config)\n",
    "    # apply pronunciation assessment config to speech recognizer\n",
    "    pronunciation_config.apply_to(speech_recognizer)\n",
    "\n",
    "    done = False\n",
    "    recognized_words = []\n",
    "    fluency_scores = []\n",
    "    prosody_scores = []\n",
    "    durations = []\n",
    "\n",
    "    def stop_cb(evt: speechsdk.SessionEventArgs):\n",
    "        \"\"\"callback that signals to stop continuous recognition upon receiving an event `evt`\"\"\"\n",
    "        print('CLOSING on {}'.format(evt))\n",
    "        nonlocal done\n",
    "        done = True\n",
    "\n",
    "    def recognized(evt: speechsdk.SpeechRecognitionEventArgs):\n",
    "        print('pronunciation assessment for: {}'.format(evt.result.text))\n",
    "        pronunciation_result = speechsdk.PronunciationAssessmentResult(evt.result)\n",
    "        print('    Accuracy score: {}, pronunciation score: {}, fluency score: {}, prosody score: {}'.format(\n",
    "            pronunciation_result.accuracy_score, pronunciation_result.pronunciation_score, \n",
    "            pronunciation_result.fluency_score, pronunciation_result.prosody_score\n",
    "        ))\n",
    "        nonlocal recognized_words, fluency_scores, durations, prosody_scores\n",
    "        recognized_words += pronunciation_result.words\n",
    "        fluency_scores.append(pronunciation_result.fluency_score)\n",
    "        prosody_scores.append(pronunciation_result.prosody_score)\n",
    "        json_result = evt.result.properties.get(speechsdk.PropertyId.SpeechServiceResponse_JsonResult)\n",
    "        jo = json.loads(json_result)\n",
    "        nb = jo['NBest'][0]\n",
    "        durations.append(sum([int(w['Duration']) for w in nb['Words']]))\n",
    "\n",
    "    # Connect callbacks to the events fired by the speech recognizer\n",
    "    speech_recognizer.recognized.connect(recognized)\n",
    "    speech_recognizer.session_started.connect(lambda evt: print('SESSION STARTED: {}'.format(evt)))\n",
    "    speech_recognizer.session_stopped.connect(lambda evt: print('SESSION STOPPED {}'.format(evt)))\n",
    "    speech_recognizer.canceled.connect(lambda evt: print('CANCELED {}'.format(evt)))\n",
    "    # stop continuous recognition on either session stopped or canceled events\n",
    "    speech_recognizer.session_stopped.connect(stop_cb)\n",
    "    speech_recognizer.canceled.connect(stop_cb)\n",
    "\n",
    "    # Start continuous pronunciation assessment\n",
    "    speech_recognizer.start_continuous_recognition()\n",
    "    while not done:\n",
    "        time.sleep(.5)\n",
    "\n",
    "    speech_recognizer.stop_continuous_recognition()\n",
    "\n",
    "    # we need to convert the reference text to lower case, and split to words, then remove the punctuations.\n",
    "\n",
    "    # For continuous pronunciation assessment mode, the service won't return the words with `Insertion` or `Omission`\n",
    "    # even if miscue is enabled.\n",
    "    # We need to compare with the reference text after received all recognized words to get these error words.\n",
    "     \n",
    "    final_words = recognized_words\n",
    "\n",
    "    # We can calculate whole accuracy by averaging\n",
    "    final_accuracy_scores = []\n",
    "    for word in final_words:\n",
    "        if word.error_type == 'Insertion':\n",
    "            continue\n",
    "        else:\n",
    "            final_accuracy_scores.append(word.accuracy_score)\n",
    "    accuracy_score = sum(final_accuracy_scores) / (len(final_accuracy_scores)+0.001)\n",
    "    # Re-calculate fluency score\n",
    "    fluency_score = sum([x * y for (x, y) in zip(fluency_scores, durations)]) / (sum(durations)+0.01)\n",
    "    # Calculate whole completeness score\n",
    "    # Re-calculate prosody score\n",
    "    prosody_score = sum(prosody_scores) / len(prosody_scores)\n",
    "    pron_score = accuracy_score * 0.4 + prosody_score * 0.2 + fluency_score * 0.2 + completeness_score * 0.2\n",
    "\n",
    "    print('    Paragraph pronunciation score: {}, accuracy score: {}, fluency score: {}, prosody score: {}'.format(\n",
    "        pron_score, accuracy_score, fluency_score, prosody_score\n",
    "    ))\n",
    "\n",
    "    for idx, word in enumerate(final_words):\n",
    "        print('    {}: word: {}\\taccuracy score: {}\\terror type: {};'.format(\n",
    "            idx + 1, word.word, word.accuracy_score, word.error_type\n",
    "        ))"
   ]
  },
  {
   "cell_type": "code",
   "execution_count": 27,
   "metadata": {},
   "outputs": [
    {
     "name": "stdout",
     "output_type": "stream",
     "text": [
      "SESSION STARTED: SessionEventArgs(session_id=d97a51cc33c84d3f941e944e2bcabc81)\n",
      "pronunciation assessment for: Hello, good evening. How are you?\n",
      "    Accuracy score: 99.0, pronunciation score: 86.6, completeness score : 100.0, fluency score: 84.0, prosody score: 83.3\n",
      "CANCELED SpeechRecognitionCanceledEventArgs(session_id=d97a51cc33c84d3f941e944e2bcabc81, result=SpeechRecognitionResult(result_id=bce6a9ea717147a3b481e5d345a4d9fc, text=\"\", reason=ResultReason.Canceled))\n",
      "CLOSING on SpeechRecognitionCanceledEventArgs(session_id=d97a51cc33c84d3f941e944e2bcabc81, result=SpeechRecognitionResult(result_id=bce6a9ea717147a3b481e5d345a4d9fc, text=\"\", reason=ResultReason.Canceled))\n",
      "SESSION STOPPED SessionEventArgs(session_id=d97a51cc33c84d3f941e944e2bcabc81)\n",
      "CLOSING on SessionEventArgs(session_id=d97a51cc33c84d3f941e944e2bcabc81)\n",
      "    Paragraph pronunciation score: 33.4599999905618, accuracy score: 0.0, completeness score: 0.0, fluency score: 83.99999995280898, prosody score: 83.3\n",
      "    1: word: hello\taccuracy score: 100.0\terror type: Insertion;\n",
      "    2: word: good\taccuracy score: 98.0\terror type: Insertion;\n",
      "    3: word: evening\taccuracy score: 98.0\terror type: Insertion;\n",
      "    4: word: how\taccuracy score: 100.0\terror type: Insertion;\n",
      "    5: word: are\taccuracy score: 100.0\terror type: Insertion;\n",
      "    6: word: you\taccuracy score: 100.0\terror type: Insertion;\n"
     ]
    }
   ],
   "source": [
    "pronunciation_assessment_continuous_from_file()"
   ]
  },
  {
   "cell_type": "code",
   "execution_count": null,
   "metadata": {},
   "outputs": [],
   "source": []
  }
 ],
 "metadata": {
  "kernelspec": {
   "display_name": "Python 3",
   "language": "python",
   "name": "python3"
  },
  "language_info": {
   "codemirror_mode": {
    "name": "ipython",
    "version": 3
   },
   "file_extension": ".py",
   "mimetype": "text/x-python",
   "name": "python",
   "nbconvert_exporter": "python",
   "pygments_lexer": "ipython3",
   "version": "3.12.1"
  }
 },
 "nbformat": 4,
 "nbformat_minor": 2
}
