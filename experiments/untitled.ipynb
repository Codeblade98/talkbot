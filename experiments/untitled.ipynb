{
 "cells": [
  {
   "cell_type": "markdown",
   "metadata": {},
   "source": [
    "## Installing Required Libraries"
   ]
  },
  {
   "cell_type": "code",
   "execution_count": 1,
   "metadata": {},
   "outputs": [
    {
     "name": "stdout",
     "output_type": "stream",
     "text": [
      "Requirement already satisfied: azure-cognitiveservices-speech in c:\\python312\\lib\\site-packages (1.41.1)\n",
      "Requirement already satisfied: openai in c:\\python312\\lib\\site-packages (1.57.0)\n",
      "Requirement already satisfied: anyio<5,>=3.5.0 in c:\\python312\\lib\\site-packages (from openai) (4.7.0)\n",
      "Requirement already satisfied: distro<2,>=1.7.0 in c:\\python312\\lib\\site-packages (from openai) (1.9.0)\n",
      "Requirement already satisfied: httpx<1,>=0.23.0 in c:\\python312\\lib\\site-packages (from openai) (0.28.1)\n",
      "Requirement already satisfied: jiter<1,>=0.4.0 in c:\\python312\\lib\\site-packages (from openai) (0.8.0)\n",
      "Requirement already satisfied: pydantic<3,>=1.9.0 in c:\\python312\\lib\\site-packages (from openai) (2.7.4)\n",
      "Requirement already satisfied: sniffio in c:\\python312\\lib\\site-packages (from openai) (1.3.1)\n",
      "Requirement already satisfied: tqdm>4 in c:\\python312\\lib\\site-packages (from openai) (4.66.4)\n",
      "Requirement already satisfied: typing-extensions<5,>=4.11 in c:\\python312\\lib\\site-packages (from openai) (4.12.2)\n",
      "Requirement already satisfied: idna>=2.8 in c:\\python312\\lib\\site-packages (from anyio<5,>=3.5.0->openai) (3.7)\n",
      "Requirement already satisfied: certifi in c:\\python312\\lib\\site-packages (from httpx<1,>=0.23.0->openai) (2024.6.2)\n",
      "Requirement already satisfied: httpcore==1.* in c:\\python312\\lib\\site-packages (from httpx<1,>=0.23.0->openai) (1.0.7)\n",
      "Requirement already satisfied: h11<0.15,>=0.13 in c:\\python312\\lib\\site-packages (from httpcore==1.*->httpx<1,>=0.23.0->openai) (0.14.0)\n",
      "Requirement already satisfied: annotated-types>=0.4.0 in c:\\python312\\lib\\site-packages (from pydantic<3,>=1.9.0->openai) (0.7.0)\n",
      "Requirement already satisfied: pydantic-core==2.18.4 in c:\\python312\\lib\\site-packages (from pydantic<3,>=1.9.0->openai) (2.18.4)\n",
      "Requirement already satisfied: colorama in c:\\python312\\lib\\site-packages (from tqdm>4->openai) (0.4.6)\n",
      "Note: you may need to restart the kernel to use updated packages.\n"
     ]
    },
    {
     "name": "stderr",
     "output_type": "stream",
     "text": [
      "\n",
      "[notice] A new release of pip is available: 23.2.1 -> 24.3.1\n",
      "[notice] To update, run: python.exe -m pip install --upgrade pip\n"
     ]
    },
    {
     "name": "stdout",
     "output_type": "stream",
     "text": [
      "Requirement already satisfied: soundfile in c:\\python312\\lib\\site-packages (0.12.1)\n",
      "Requirement already satisfied: cffi>=1.0 in c:\\python312\\lib\\site-packages (from soundfile) (1.17.1)\n",
      "Requirement already satisfied: pycparser in c:\\python312\\lib\\site-packages (from cffi>=1.0->soundfile) (2.22)\n",
      "Note: you may need to restart the kernel to use updated packages.\n"
     ]
    },
    {
     "name": "stderr",
     "output_type": "stream",
     "text": [
      "\n",
      "[notice] A new release of pip is available: 23.2.1 -> 24.3.1\n",
      "[notice] To update, run: python.exe -m pip install --upgrade pip\n"
     ]
    },
    {
     "name": "stdout",
     "output_type": "stream",
     "text": [
      "Requirement already satisfied: pyaudio in c:\\python312\\lib\\site-packages (0.2.14)\n",
      "Note: you may need to restart the kernel to use updated packages.\n"
     ]
    },
    {
     "name": "stderr",
     "output_type": "stream",
     "text": [
      "\n",
      "[notice] A new release of pip is available: 23.2.1 -> 24.3.1\n",
      "[notice] To update, run: python.exe -m pip install --upgrade pip\n"
     ]
    },
    {
     "name": "stdout",
     "output_type": "stream",
     "text": [
      "Note: you may need to restart the kernel to use updated packages.\n"
     ]
    },
    {
     "name": "stderr",
     "output_type": "stream",
     "text": [
      "\n",
      "[notice] A new release of pip is available: 23.2.1 -> 24.3.1\n",
      "[notice] To update, run: python.exe -m pip install --upgrade pip\n"
     ]
    },
    {
     "name": "stdout",
     "output_type": "stream",
     "text": [
      "Note: you may need to restart the kernel to use updated packages.\n"
     ]
    },
    {
     "name": "stderr",
     "output_type": "stream",
     "text": [
      "\n",
      "[notice] A new release of pip is available: 23.2.1 -> 24.3.1\n",
      "[notice] To update, run: python.exe -m pip install --upgrade pip\n"
     ]
    },
    {
     "name": "stdout",
     "output_type": "stream",
     "text": [
      "Note: you may need to restart the kernel to use updated packages.\n"
     ]
    },
    {
     "name": "stderr",
     "output_type": "stream",
     "text": [
      "\n",
      "[notice] A new release of pip is available: 23.2.1 -> 24.3.1\n",
      "[notice] To update, run: python.exe -m pip install --upgrade pip\n"
     ]
    },
    {
     "name": "stdout",
     "output_type": "stream",
     "text": [
      "Requirement already satisfied: pyyaml in c:\\python312\\lib\\site-packages (6.0.1)\n",
      "Note: you may need to restart the kernel to use updated packages.\n"
     ]
    },
    {
     "name": "stderr",
     "output_type": "stream",
     "text": [
      "\n",
      "[notice] A new release of pip is available: 23.2.1 -> 24.3.1\n",
      "[notice] To update, run: python.exe -m pip install --upgrade pip\n"
     ]
    }
   ],
   "source": [
    "%pip install azure-cognitiveservices-speech openai\n",
    "%pip install soundfile\n",
    "%pip install pyaudio\n",
    "%pip install langchain-core langgraph>0.2.27\n",
    "%pip install -q langchain-google-genai\n",
    "%pip install -q google-generativeai\n",
    "%pip install pyyaml"
   ]
  },
  {
   "cell_type": "markdown",
   "metadata": {},
   "source": [
    "## Importing Required Modules"
   ]
  },
  {
   "cell_type": "code",
   "execution_count": 2,
   "metadata": {},
   "outputs": [
    {
     "name": "stderr",
     "output_type": "stream",
     "text": [
      "c:\\Python312\\Lib\\site-packages\\tqdm\\auto.py:21: TqdmWarning: IProgress not found. Please update jupyter and ipywidgets. See https://ipywidgets.readthedocs.io/en/stable/user_install.html\n",
      "  from .autonotebook import tqdm as notebook_tqdm\n"
     ]
    }
   ],
   "source": [
    "import os\n",
    "import google.generativeai as genai\n",
    "import json\n",
    "import math\n",
    "import requests\n",
    "import sys\n",
    "import time\n",
    "import threading\n",
    "import wave\n",
    "import pyaudio\n",
    "\n",
    "import numpy as np\n",
    "import soundfile as sf\n",
    "\n",
    "from typing_extensions import TypedDict\n",
    "from typing import Any, Dict, List, Optional, Tuple\n",
    "\n",
    "from langchain_google_genai import ChatGoogleGenerativeAI\n",
    "from langchain_core.messages import HumanMessage, SystemMessage, AIMessage\n",
    "\n",
    "from langgraph.graph import StateGraph, END\n",
    "from langgraph.checkpoint.memory import MemorySaver\n",
    "\n",
    "import yaml\n",
    "import copy\n",
    "\n",
    "import simpleaudio as sa\n",
    "\n",
    "\n",
    "try:\n",
    "    import azure.cognitiveservices.speech as speechsdk\n",
    "except ImportError:\n",
    "    print(\"\"\"\n",
    "    Importing the Speech SDK for Python failed.\n",
    "    Refer to\n",
    "    https://docs.microsoft.com/azure/cognitive-services/speech-service/quickstart-python for\n",
    "    installation instructions.\n",
    "    \"\"\")\n",
    "    raise ImportError(\"Error importing the Speech SDK for Python.\")"
   ]
  },
  {
   "cell_type": "markdown",
   "metadata": {},
   "source": [
    "## Audio Chat Agent"
   ]
  },
  {
   "cell_type": "markdown",
   "metadata": {},
   "source": [
    "### Acquire Keys and Environment Variables"
   ]
  },
  {
   "cell_type": "code",
   "execution_count": 3,
   "metadata": {},
   "outputs": [],
   "source": [
    "# Load the YAML file\n",
    "with open(\"../config.yaml\", \"r\") as file:\n",
    "    config = yaml.safe_load(file)\n",
    "\n",
    "# Load the API key\n",
    "os.environ[\"GOOGLE_API_KEY\"] = config[\"google_cloud_info\"][\"google_cloud_api_key\"]\n",
    "speech_key = config[\"azure_info\"][\"azure_speech_key\"]\n",
    "service_region = config[\"azure_info\"][\"azure_service_region\"]"
   ]
  },
  {
   "cell_type": "markdown",
   "metadata": {},
   "source": [
    "### Utils"
   ]
  },
  {
   "cell_type": "code",
   "execution_count": 4,
   "metadata": {},
   "outputs": [],
   "source": [
    "## util functions\n",
    "def read_wave_header(file_path):\n",
    "    with wave.open(file_path, 'rb') as audio_file:\n",
    "        framerate = audio_file.getframerate()\n",
    "        bits_per_sample = audio_file.getsampwidth() * 8\n",
    "        num_channels = audio_file.getnchannels()\n",
    "        return framerate, bits_per_sample, num_channels\n",
    "    \n",
    "def push_stream_writer(stream, filenames, merged_audio_path, sample_rate, channels, sample_width): \n",
    "    byte_data = b\"\"\n",
    "    # The number of bytes to push per buffer\n",
    "    n_bytes = 3200\n",
    "    try:\n",
    "        for filename in filenames:\n",
    "            wav_fh = wave.open(filename)\n",
    "            # Start pushing data until all data has been read from the file\n",
    "            try:\n",
    "                while True:\n",
    "                    frames = wav_fh.readframes(n_bytes // 2)\n",
    "                    if not frames:\n",
    "                        break\n",
    "                    stream.write(frames)\n",
    "                    byte_data += frames\n",
    "                    time.sleep(.1)\n",
    "            finally:\n",
    "                wav_fh.close()\n",
    "        with wave.open(merged_audio_path, 'wb') as wave_file:\n",
    "            wave_file.setnchannels(channels)\n",
    "            wave_file.setsampwidth(sample_width)\n",
    "            wave_file.setframerate(sample_rate)\n",
    "            wave_file.writeframes(byte_data)\n",
    "    finally:\n",
    "        stream.close()\n",
    "\n",
    "def merge_wav(audio_list, output_path, sample_rate, tag=None): \n",
    "    combined_audio = np.empty((0,))\n",
    "    for audio in audio_list:\n",
    "        y, _ = sf.read(audio, dtype=\"float32\")\n",
    "        combined_audio = np.concatenate((combined_audio, y))\n",
    "        os.remove(audio)\n",
    "    sf.write(output_path, combined_audio, sample_rate)\n",
    "    if tag:\n",
    "        print(f\"Save {tag} to {output_path}\")\n",
    "\n",
    "def get_mispronunciation_clip(offset, duration, save_path, merged_audio_path, sample_rate, reduced_unit): \n",
    "    y, _ = sf.read(\n",
    "        merged_audio_path,\n",
    "        start=int((offset) / reduced_unit * sample_rate),\n",
    "        stop=int((offset + duration) / reduced_unit * sample_rate),\n",
    "        dtype=np.float32\n",
    "    )\n",
    "    sf.write(save_path, y, sample_rate)\n",
    "\n",
    "def strip_end_silence(file_path, sample_rate):\n",
    "    y, _ = sf.read(file_path, start=0, stop=-int(sample_rate*0.8), dtype=np.float32)\n",
    "    sf.write(file_path, y, sample_rate)\n",
    "\n",
    "def save_audio(filename, format_, channels, rate, chunk, recording_event):\n",
    "    \"\"\"\n",
    "    Save audio from the microphone in parallel using PyAudio.\n",
    "    \"\"\"\n",
    "    p = pyaudio.PyAudio()\n",
    "    stream = p.open(format=format_, channels=channels, rate=rate, input=True, frames_per_buffer=chunk)\n",
    "    frames = []\n",
    "\n",
    "    print(\"Recording audio...\")\n",
    "    start_time = time.time()    \n",
    "\n",
    "    while recording_event.is_set():\n",
    "        data = stream.read(chunk)\n",
    "        frames.append(data)\n",
    "    print(\"Stopping audio recording...\")\n",
    "    stream.stop_stream()\n",
    "    stream.close()\n",
    "    p.terminate()\n",
    "\n",
    "    # Save the recorded frames as a .wav file\n",
    "    \n",
    "    with wave.open(filename, 'wb') as wf:\n",
    "        wf.setnchannels(channels)\n",
    "        wf.setsampwidth(p.get_sample_size(format_))\n",
    "        wf.setframerate(rate)\n",
    "        wf.writeframes(b''.join(frames))\n",
    "    print(f\"Audio saved to {filename}\")\n",
    "\n",
    "    strip_end_silence(filename, rate)\n",
    "\n",
    "def play_audio_with_pyaudio(wav_file_path):\n",
    "    # Open the WAV file\n",
    "    wf = wave.open(wav_file_path, 'rb')\n",
    "\n",
    "    # Create a PyAudio instance\n",
    "    p = pyaudio.PyAudio()\n",
    "\n",
    "    # Open a stream for playback\n",
    "    stream = p.open(\n",
    "        format=p.get_format_from_width(wf.getsampwidth()),\n",
    "        channels=wf.getnchannels(),\n",
    "        rate=wf.getframerate(),\n",
    "        output=True\n",
    "    )\n",
    "\n",
    "    # Read data in chunks\n",
    "    chunk = 1024\n",
    "    data = wf.readframes(chunk)\n",
    "\n",
    "    # Play the sound by writing audio data to the stream\n",
    "    while data:\n",
    "        stream.write(data)\n",
    "        data = wf.readframes(chunk)\n",
    "\n",
    "    # Stop and close the stream\n",
    "    stream.stop_stream()\n",
    "    stream.close()\n",
    "\n",
    "    # Close PyAudio\n",
    "    p.terminate()\n",
    "\n",
    "    # Close the WAV file\n",
    "    wf.close()\n",
    "\n",
    "def invoke_chatbot(messages, temperature):\n",
    "    llm = ChatGoogleGenerativeAI(model='gemini-1.5-pro', temperature=temperature)\n",
    "    response = llm.invoke(messages)\n",
    "    content = response.content\n",
    "    input_tokens = response.usage_metadata[\"input_tokens\"]\n",
    "    output_tokens = response.usage_metadata[\"output_tokens\"]\n",
    "    messages.append(AIMessage(content=content))\n",
    "    \n",
    "    return messages, input_tokens, output_tokens"
   ]
  },
  {
   "cell_type": "markdown",
   "metadata": {},
   "source": [
    "### Defining Classes and Objects"
   ]
  },
  {
   "cell_type": "code",
   "execution_count": 5,
   "metadata": {},
   "outputs": [],
   "source": [
    "class TokenCount(TypedDict):\n",
    "    action: str\n",
    "    input_tokens: int\n",
    "    output_tokens: int\n",
    "\n",
    "class AudioParams(TypedDict):\n",
    "    sample_rate: int\n",
    "    channels: int\n",
    "    sample_width: int\n",
    "    format_: int   \n",
    "    chunk: int\n",
    "\n",
    "class AgentState(TypedDict):\n",
    "    messages: List[str]\n",
    "    actions: List[str]\n",
    "    action_num: int\n",
    "    max_speaking_time: int ## contains the maximum speaking time in seconds\n",
    "    audio_params: AudioParams\n",
    "    token_usage_history: List[TokenCount]\n",
    "    total_input_tokens: int\n",
    "    total_output_tokens: int"
   ]
  },
  {
   "cell_type": "markdown",
   "metadata": {},
   "source": [
    "### Define Agent Tools and Functions"
   ]
  },
  {
   "cell_type": "code",
   "execution_count": 6,
   "metadata": {},
   "outputs": [],
   "source": [
    "# Define the functions for each node\n",
    "\n",
    "def stt(state: AgentState) -> AgentState:\n",
    "    \"\"\"\n",
    "    Convert speech to text in real-time from microphone input.\n",
    "    \"\"\"\n",
    "    result_text = []\n",
    "    updated_state = copy.deepcopy(state)\n",
    "    speech_config = speechsdk.SpeechConfig(subscription=speech_key, region=service_region)\n",
    "    audio_config = speechsdk.audio.AudioConfig(use_default_microphone=True)\n",
    "\n",
    "    speech_recognizer = speechsdk.SpeechRecognizer(speech_config=speech_config, audio_config=audio_config)\n",
    "\n",
    "    done = False\n",
    "    audio_args = state[\"audio_params\"]\n",
    "\n",
    "    def stop_cb(evt: speechsdk.SessionEventArgs):\n",
    "        \"\"\"Callback that signals to stop continuous recognition upon receiving an event `evt`.\"\"\"\n",
    "        nonlocal done\n",
    "        done = True\n",
    "\n",
    "    speech_recognizer.recognized.connect(lambda evt: result_text.append(evt.result.text))\n",
    "    speech_recognizer.session_stopped.connect(stop_cb)\n",
    "    speech_recognizer.canceled.connect(stop_cb)\n",
    "\n",
    "    speech_recognizer.start_continuous_recognition()\n",
    "    print(\"Please speak into the microphone...\")\n",
    "\n",
    "    global recording_event\n",
    "    filename = f\"input_audio_{state[\"action_num\"]}.wav\"\n",
    "    recording_event = threading.Event()\n",
    "    recording_event.set()\n",
    "    audio_thread = threading.Thread(target=save_audio, args=(filename, audio_args[\"format_\"], audio_args[\"channels\"], audio_args[\"sample_rate\"], audio_args[\"chunk\"], recording_event))\n",
    "    audio_thread.start()\n",
    "\n",
    "    start_time = time.time()\n",
    "\n",
    "    while not done:\n",
    "        time.sleep(0.5)\n",
    "        if time.time() - start_time > state[\"max_speaking_time\"]:\n",
    "            print(\"Thank you for speaking.\\n Processing info.....\")\n",
    "            speech_recognizer.stop_continuous_recognition()\n",
    "            done = True\n",
    "\n",
    "    recording_event.clear()\n",
    "    audio_thread.join()\n",
    "\n",
    "    speech_recognizer.stop_continuous_recognition()\n",
    "\n",
    "    text = \" \".join(result_text)\n",
    "    messages = state[\"messages\"]\n",
    "    messages.append(HumanMessage(text))\n",
    "    updated_state[\"messages\"] = messages\n",
    "    updated_state[\"action_num\"] += 1\n",
    "    updated_state[\"actions\"].append(\"Speech-to-Text\")\n",
    "    return updated_state\n",
    "\n",
    "def chat(state: AgentState) -> AgentState:\n",
    "    \"\"\"\n",
    "    Simulate Chat.\n",
    "    Takes text input and generates a response.\n",
    "    \"\"\"\n",
    "    messages = state[\"messages\"]\n",
    "    messages, input_tokens, output_tokens = invoke_chatbot(messages, temperature=0)\n",
    "    updated_state = copy.deepcopy(state)\n",
    "\n",
    "    updated_state[\"messages\"] = messages\n",
    "    updated_state[\"action_num\"] += 1\n",
    "    updated_state[\"actions\"].append(\"Chat\")\n",
    "    updated_state[\"total_input_tokens\"] += input_tokens\n",
    "    updated_state[\"total_output_tokens\"] += output_tokens\n",
    "    updated_state[\"token_usage_history\"].append({\n",
    "        \"action\": f\"chat_{updated_state[\"action_num\"]}\",\n",
    "        \"input_tokens\": input_tokens,\n",
    "        \"output_tokens\": output_tokens\n",
    "    })\n",
    "\n",
    "    return updated_state\n",
    "\n",
    "def tts(state: AgentState) -> AgentState:\n",
    "    output_path = f\"output_audio_{state['action_num']}.wav\"\n",
    "    last_ai_message = state[\"messages\"][-1].content\n",
    "    print(last_ai_message)\n",
    "\n",
    "    ssml_text = (\n",
    "        '<speak version=\"1.0\" xmlns=\"http://www.w3.org/2001/10/synthesis\" xml:lang=\"en-US\">'\n",
    "        f'<voice name=\"en-US-JennyNeural\">{last_ai_message}</voice>'\n",
    "        '</speak>'\n",
    "    )\n",
    "    sample_rate = state[\"audio_params\"][\"sample_rate\"]\n",
    "\n",
    "    file_config = speechsdk.audio.AudioOutputConfig(filename=output_path)\n",
    "    speech_config = speechsdk.SpeechConfig(subscription=speech_key, region=service_region)\n",
    "    speech_synthesizer = speechsdk.SpeechSynthesizer(speech_config=speech_config, audio_config=file_config)\n",
    "    result = speech_synthesizer.speak_ssml_async(ssml_text).get()\n",
    "\n",
    "    if result.reason == speechsdk.ResultReason.SynthesizingAudioCompleted:\n",
    "        # Optional: strip_end_silence(output_path, sample_rate=sample_rate)\n",
    "        play_audio_with_pyaudio(output_path)\n",
    "    elif result.reason == speechsdk.ResultReason.Canceled:\n",
    "        cancellation_details = result.cancellation_details\n",
    "        print(\"Speech synthesis canceled: {}\".format(cancellation_details.reason))\n",
    "        if cancellation_details.reason == speechsdk.CancellationReason.Error:\n",
    "            print(\"Error details: {}\".format(cancellation_details.error_details))\n",
    "\n",
    "    updated_state = copy.deepcopy(state)\n",
    "    updated_state[\"action_num\"] += 1\n",
    "    updated_state[\"actions\"].append(\"Text-to-Speech\")\n",
    "\n",
    "    return updated_state\n",
    "    \n",
    "def check_conversation_end(state: AgentState): \n",
    "    \"\"\"\n",
    "    Pass the message history to the model and check if the conversation should end\n",
    "    \"\"\"\n",
    "    print(\"Conditional Node: Checking if conversation should end...\")\n",
    "    stop_cond = input(\"Enter 'yes' to end the conversation: \")\n",
    "    if \"yes\" in stop_cond.lower(): \n",
    "        return \"__end__\"\n",
    "    else:\n",
    "        return \"stt\""
   ]
  },
  {
   "cell_type": "markdown",
   "metadata": {},
   "source": [
    "### Create and Execute Graph"
   ]
  },
  {
   "cell_type": "code",
   "execution_count": 7,
   "metadata": {},
   "outputs": [
    {
     "name": "stdout",
     "output_type": "stream",
     "text": [
      "Starting the AI Agent...\n",
      "Please speak into the microphone...\n",
      "Recording audio...\n",
      "Thank you for speaking.\n",
      " Processing info.....\n",
      "Stopping audio recording...\n",
      "Audio saved to input_audio_0.wav\n",
      "This sounds like the beginning of a speech or monologue, possibly from a villain or someone about to disrupt the status quo.  The polite greeting followed by the immediate acknowledgment of an \"interruption\" creates a strong sense of irony and foreshadows something unsettling.  The speaker's appreciation for routine, familiarity, and repetition suggests that they are about to shatter those very things for their audience (London, in this case).\n",
      "\n",
      "Conditional Node: Checking if conversation should end...\n"
     ]
    },
    {
     "data": {
      "text/plain": [
       "{'messages': [HumanMessage(content='Hello, 123-4567. Good evening. How are you? Good evening, London. Allow me to apologize for this interruption. I do, like many of you, appreciate the comforts of daily routine, the security of the familiar, the tranquillity of repetition.'),\n",
       "  AIMessage(content='This sounds like the beginning of a speech or monologue, possibly from a villain or someone about to disrupt the status quo.  The polite greeting followed by the immediate acknowledgment of an \"interruption\" creates a strong sense of irony and foreshadows something unsettling.  The speaker\\'s appreciation for routine, familiarity, and repetition suggests that they are about to shatter those very things for their audience (London, in this case).\\n')],\n",
       " 'actions': ['Speech-to-Text', 'Chat', 'Text-to-Speech'],\n",
       " 'action_num': 3,\n",
       " 'max_speaking_time': 20,\n",
       " 'audio_params': {'sample_rate': 16000,\n",
       "  'channels': 1,\n",
       "  'sample_width': 2,\n",
       "  'format_': 8,\n",
       "  'chunk': 1024},\n",
       " 'token_usage_history': [{'action': 'chat_2',\n",
       "   'input_tokens': 59,\n",
       "   'output_tokens': 85}],\n",
       " 'total_input_tokens': 59,\n",
       " 'total_output_tokens': 85}"
      ]
     },
     "execution_count": 7,
     "metadata": {},
     "output_type": "execute_result"
    }
   ],
   "source": [
    "graph = StateGraph(AgentState)\n",
    "\n",
    "graph.add_node(\"stt\", stt)            \n",
    "graph.add_node(\"chat\", chat)        \n",
    "graph.add_node(\"tts\", tts)         \n",
    "\n",
    "graph.set_entry_point(\"stt\")\n",
    "graph.add_conditional_edges(\n",
    "    \"tts\", check_conversation_end, {\"stt\": \"stt\", END: END}\n",
    ")\n",
    "graph.add_edge(\"stt\", \"chat\")              \n",
    "graph.add_edge(\"chat\", \"tts\")             \n",
    "\n",
    "memory = MemorySaver()\n",
    "workflow = graph.compile(checkpointer=memory)\n",
    "\n",
    "workflow_image = workflow.get_graph().draw_mermaid_png()\n",
    "\n",
    "print(\"Starting the AI Agent...\")\n",
    "initial_state = {\n",
    "    \"messages\": [],\n",
    "    \"actions\": [],\n",
    "    \"action_num\": 0,\n",
    "    \"max_speaking_time\": 20,\n",
    "    \"audio_params\": {\n",
    "        \"sample_rate\": 16000,\n",
    "        \"channels\": 1,\n",
    "        \"sample_width\": 2,\n",
    "        \"format_\": pyaudio.paInt16,\n",
    "        \"chunk\": 1024\n",
    "    },\n",
    "    \"token_usage_history\": [],\n",
    "    \"total_input_tokens\": 0,\n",
    "    \"total_output_tokens\": 0\n",
    "}\n",
    "checkpoint_config = {\n",
    "    \"thread_id\": \"user123\"\n",
    "}\n",
    "\n",
    "workflow.invoke(initial_state, checkpoint_config)"
   ]
  },
  {
   "cell_type": "code",
   "execution_count": 10,
   "metadata": {},
   "outputs": [
    {
     "data": {
      "image/jpeg": "[encoded data removed]",
      "text/plain": [
       "<IPython.core.display.Image object>"
      ]
     },
     "metadata": {},
     "output_type": "display_data"
    }
   ],
   "source": [
    "from IPython.display import Image, display\n",
    "\n",
    "# Assuming `workflow_image` contains the PNG data\n",
    "workflow_image = workflow.get_graph().draw_mermaid_png()\n",
    "\n",
    "# Display the PNG image\n",
    "display(Image(data=workflow_image))\n"
   ]
  }
 ],
 "metadata": {
  "kernelspec": {
   "display_name": "Python 3",
   "language": "python",
   "name": "python3"
  },
  "language_info": {
   "codemirror_mode": {
    "name": "ipython",
    "version": 3
   },
   "file_extension": ".py",
   "mimetype": "text/x-python",
   "name": "python",
   "nbconvert_exporter": "python",
   "pygments_lexer": "ipython3",
   "version": "3.12.1"
  }
 },
 "nbformat": 4,
 "nbformat_minor": 2
}
